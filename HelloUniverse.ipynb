{
  "nbformat": 4,
  "nbformat_minor": 0,
  "metadata": {
    "colab": {
      "name": "HelloUniverse.ipynb",
      "provenance": [],
      "collapsed_sections": []
    },
    "kernelspec": {
      "name": "python3",
      "display_name": "Python 3"
    }
  },
  "cells": [
    {
      "cell_type": "markdown",
      "metadata": {
        "id": "SIeBeByUFZEv",
        "colab_type": "text"
      },
      "source": [
        "This is my first Colab 2.0 program\n",
        "\n",
        "Herer we demonstrate:\n",
        "\n",
        "How to print using Python print statement\n",
        "Perform basic mathematical operations\n"
      ]
    },
    {
      "cell_type": "code",
      "metadata": {
        "id": "lFDo4-e0FjS-",
        "colab_type": "code",
        "outputId": "a138335f-ef3c-4295-d179-00692eb1df7e",
        "colab": {
          "base_uri": "https://localhost:8080/",
          "height": 34
        }
      },
      "source": [
        "\n",
        "[1]\n",
        "print (\"Hello Universe\")\n",
        "\n"
      ],
      "execution_count": 0,
      "outputs": [
        {
          "output_type": "stream",
          "text": [
            "Hello Universe\n"
          ],
          "name": "stdout"
        }
      ]
    },
    {
      "cell_type": "markdown",
      "metadata": {
        "id": "_Xj1OlsvF3G1",
        "colab_type": "text"
      },
      "source": [
        "Next let us perform addition of two numbers\n",
        "\n",
        "Double-click (or enter) to edit"
      ]
    },
    {
      "cell_type": "code",
      "metadata": {
        "id": "PUsu78BeF9MB",
        "colab_type": "code",
        "outputId": "d0d35834-facc-4c07-9635-5e508ded117c",
        "colab": {
          "base_uri": "https://localhost:8080/",
          "height": 34
        }
      },
      "source": [
        "[2]\n",
        "a = 3\n",
        "b = 2\n",
        "y = a + b\n",
        "print (y)"
      ],
      "execution_count": 0,
      "outputs": [
        {
          "output_type": "stream",
          "text": [
            "5\n"
          ],
          "name": "stdout"
        }
      ]
    },
    {
      "cell_type": "markdown",
      "metadata": {
        "id": "Y-a6YOxCGCLQ",
        "colab_type": "text"
      },
      "source": [
        "Let us inititialize variables next\n"
      ]
    },
    {
      "cell_type": "code",
      "metadata": {
        "id": "-4134lNcGHmH",
        "colab_type": "code",
        "colab": {}
      },
      "source": [
        "a = 10\n",
        "b = 20"
      ],
      "execution_count": 0,
      "outputs": []
    },
    {
      "cell_type": "markdown",
      "metadata": {
        "id": "CF36NXZXGRQc",
        "colab_type": "text"
      },
      "source": [
        "Add $a$ and $b$ to get $a + b$"
      ]
    },
    {
      "cell_type": "code",
      "metadata": {
        "id": "m6GsZgVIGQ2b",
        "colab_type": "code",
        "colab": {}
      },
      "source": [
        "y = a + b"
      ],
      "execution_count": 0,
      "outputs": []
    },
    {
      "cell_type": "markdown",
      "metadata": {
        "id": "DArl-nZNHwxz",
        "colab_type": "text"
      },
      "source": [
        "Print y"
      ]
    },
    {
      "cell_type": "code",
      "metadata": {
        "id": "d5_y7mUmH0rm",
        "colab_type": "code",
        "outputId": "d03e9412-7d1a-40b2-9d89-c9e952065729",
        "colab": {
          "base_uri": "https://localhost:8080/",
          "height": 34
        }
      },
      "source": [
        "print (y)\n"
      ],
      "execution_count": 0,
      "outputs": [
        {
          "output_type": "stream",
          "text": [
            "30\n"
          ],
          "name": "stdout"
        }
      ]
    },
    {
      "cell_type": "markdown",
      "metadata": {
        "id": "iQhPMkdrHwnE",
        "colab_type": "text"
      },
      "source": [
        ""
      ]
    }
  ]
}